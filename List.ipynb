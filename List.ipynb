{
 "cells": [
  {
   "cell_type": "code",
   "execution_count": 1,
   "metadata": {},
   "outputs": [
    {
     "name": "stdout",
     "output_type": "stream",
     "text": [
      "How many elements do you want to insert into List1:4\n",
      "If you want to insert characters enclose within single or double quotes\n",
      "Enter the Elements: 1\n",
      "Enter the Elements: 2\n",
      "Enter the Elements: 3\n",
      "Enter the Elements: 4\n",
      "List1 elements are: [1, 2, 3, 4]\n",
      "How many elements do you want to insert into List2:3\n",
      "If you want to insert characters enclose within single or double quotes\n",
      "Enter the Elements: 3\n",
      "Enter the Elements: 4\n",
      "Enter the Elements: 5\n",
      "List2 elements are: [3, 4, 5]\n",
      "Common Elements present in List1 and List2 is: [3, 4]\n",
      "Elements present in List1 but not in List2 is: [1, 2]\n"
     ]
    }
   ],
   "source": [
    "list1 = []                                                                                 #Creating first empty list\n",
    "print(\"How many elements do you want to insert into List1:\",end='')\n",
    "n = eval(input())                                                                          #accept input into n\n",
    "print(\"If you want to insert characters enclose within single or double quotes\")\n",
    "for i in range(n):                                                                         #repeat n times\n",
    "\tprint(\"Enter the Elements:\",end=' ')\n",
    "\tlist1.append(eval(input()))                                                            #add the elements into list1\n",
    "print(\"List1 elements are:\",list1)\n",
    "list2 = []                                                                                 #Creating second empty list\n",
    "print(\"How many elements do you want to insert into List2:\",end='')\n",
    "m = eval(input())                                                                          #accept input into m\n",
    "print(\"If you want to insert characters enclose within single or double quotes\")\n",
    "for j in range(m):                                                                         #repeat m times\n",
    "\tprint(\"Enter the Elements:\",end=' ')\n",
    "\tlist2.append(eval(input()))                                                            #add the elements into list2\n",
    "print(\"List2 elements are:\",list2)\n",
    "\n",
    "s1 = set(list1)                                                             #converting list1 into set1\n",
    "s2 = set(list2)                                                             #converting list2 into set2\n",
    "s3 = s1.intersection(s2)                            #Finding the common elements in List1 and List2 using intersection method\n",
    "common = list(s3)                                                           #converting Set elements to List elements\n",
    "print(\"Common Elements present in List1 and List2 is:\",common)              #Display the Common Elements List\n",
    "\n",
    "list3 = []                                                                #Creating third empty list\n",
    "for k in list1:                                                           #Taking the List1 elements\n",
    "\tif k not in list2:                                                    #Checking List1 elements not present in List2 \n",
    "\t\tlist3.append(k)                                                   #Adding List1 elements not present in List2 into List3 \n",
    "print(\"Elements present in List1 but not in List2 is:\",list3)             #Display elements in List3\n",
    "\n"
   ]
  },
  {
   "cell_type": "code",
   "execution_count": null,
   "metadata": {},
   "outputs": [],
   "source": []
  }
 ],
 "metadata": {
  "kernelspec": {
   "display_name": "Python 3",
   "language": "python",
   "name": "python3"
  },
  "language_info": {
   "codemirror_mode": {
    "name": "ipython",
    "version": 3
   },
   "file_extension": ".py",
   "mimetype": "text/x-python",
   "name": "python",
   "nbconvert_exporter": "python",
   "pygments_lexer": "ipython3",
   "version": "3.6.5"
  }
 },
 "nbformat": 4,
 "nbformat_minor": 2
}
